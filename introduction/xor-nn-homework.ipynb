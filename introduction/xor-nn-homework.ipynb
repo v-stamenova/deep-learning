{
 "cells": [
  {
   "metadata": {},
   "cell_type": "markdown",
   "source": [
    "# Homework\n",
    "\n",
    "> Try creating a neural network that can do XOR\n",
    ">\n",
    "> **Deadline: 20 March**\n"
   ],
   "id": "771dbf789603d721"
  },
  {
   "metadata": {
    "ExecuteTime": {
     "end_time": "2025-03-21T13:11:47.215988Z",
     "start_time": "2025-03-21T13:11:47.209627Z"
    }
   },
   "cell_type": "code",
   "source": "import numpy as np",
   "id": "2ae0367b02840361",
   "outputs": [],
   "execution_count": 2
  },
  {
   "metadata": {},
   "cell_type": "markdown",
   "source": [
    "To determine how many layers are needed for the NN it's necessary to understand how XOR works. It has 3 gates in total - OR and NAND gate, the results of them being estimated in an AND gate. This requires 2 input values, and one neuron per gate.\n",
    "\n",
    "![xor](xor-nn.png)"
   ],
   "id": "70be6f2ff0f7285b"
  },
  {
   "metadata": {},
   "cell_type": "markdown",
   "source": [
    "First part of determining the weights and the bias of the node is determining the truth table of the OR. Then a threshold is created - the numbers below 0 are going to be false (0) and numbers above 0 will be true (1). To ensure this happens in the OR gate, both weights remain 1 and the bias will move the point down the threshold. The bias needs to be b > -1 && b < 0 - in this case -0.5.\n",
    "\n",
    "The resulting values can be plotted on a coordinate system with the X being the result of the pre-activation equation and the Y value being the \"desired\" value based on the truth table.\n",
    "\n",
    "![or](or-ta-tr.png)\n",
    "\n",
    "An activation function is needed to bring the values of the pre-activation equation to the desired values, so a function that goes through the point in the coordinate system is needed. In the heavyside function will be used.\n",
    "\n",
    "![or](or-h.png)\n",
    "\n",
    "Similar thing can be applied to the NAND gate, starting off with the truth table and reverse engineering how the values of it can be modified, to be below/above the threshold. The NAND results are the reversed or results so if it is started with negative weights it would be easier to ensure that the space between the result of x1=1 and x2=1 is for sure lower than for x1=0,x2=1, etc. If the bias remains 0, case (x1=0, x2=0) will be exactly 0, while cases (x1=0,x2=1), (x1=1,x2=0) will be -1. The last case (x1=1,x2=1) will be -2. So in order to bring the first three cases to the positive part of the system the bias needs to be a bit more than 1 - in this case 1.5.\n",
    "\n",
    "![nand](nand-tt.png)\n",
    "\n",
    "The activation function for this being the exact same activation one as for the OR node since it follows the same pattern of determination.\n",
    "\n",
    "The last gate that remained is the final AND which again will have both weights of 1 because this way it will be easier to find the bias as shown below.\n",
    "\n",
    "![and](and-tt.png)\n",
    "\n",
    "The final output is received after the activation function is applied on the pre-activation equation to transform the values to proper booleans.\n",
    "\n",
    "Overall the truth table for the whole network looks like the following:\n",
    "\n",
    "![final-truth-table](final-truth-table.png)\n"
   ],
   "id": "740975d8280b9a13"
  },
  {
   "metadata": {
    "ExecuteTime": {
     "end_time": "2025-03-21T13:12:42.631974Z",
     "start_time": "2025-03-21T13:12:42.618750Z"
    }
   },
   "cell_type": "code",
   "source": [
    "data = [\n",
    "    {'x1': 0, 'x2': 0, 'y': 0},\n",
    "    {'x1': 0, 'x2': 1, 'y': 1},\n",
    "    {'x1': 1, 'x2': 0, 'y': 1},\n",
    "    {'x1': 1, 'x2': 1, 'y': 0}\n",
    "]\n",
    "\n",
    "weights_or = [1, 1]\n",
    "weights_nand = [-1, -1]\n",
    "biases = [-0.5, 1.5]\n",
    "\n",
    "weights_output = [1, 1]\n",
    "bias_output = -1.5\n",
    "\n",
    "for input in data:\n",
    "    x1 = input['x1']\n",
    "    x2 = input['x2']\n",
    "    y = input['y']\n",
    "\n",
    "    y_or_pred = np.heaviside(x1 * weights_or[0] + x2 * weights_or[1] + biases[0], 0)\n",
    "    y_nand_pred = np.heaviside(x1 * weights_nand[0] + x2 * weights_nand[1] + biases[1], 0)\n",
    "\n",
    "    y_pred = np.heaviside(y_or_pred * weights_output[0] + y_nand_pred * weights_output[1] + bias_output, 0)\n",
    "\n",
    "    print(f\"Input: ({x1}, {x2}), Predicted Sum: {y_pred}\")"
   ],
   "id": "3740e7a9fe10513a",
   "outputs": [
    {
     "name": "stdout",
     "output_type": "stream",
     "text": [
      "Input: (0, 0), Predicted Sum: 0.0\n",
      "Input: (0, 1), Predicted Sum: 1.0\n",
      "Input: (1, 0), Predicted Sum: 1.0\n",
      "Input: (1, 1), Predicted Sum: 0.0\n"
     ]
    }
   ],
   "execution_count": 5
  },
  {
   "metadata": {},
   "cell_type": "code",
   "outputs": [],
   "execution_count": null,
   "source": "",
   "id": "efbd41ce8cf5dcf1"
  }
 ],
 "metadata": {
  "kernelspec": {
   "display_name": "Python 3",
   "language": "python",
   "name": "python3"
  },
  "language_info": {
   "codemirror_mode": {
    "name": "ipython",
    "version": 2
   },
   "file_extension": ".py",
   "mimetype": "text/x-python",
   "name": "python",
   "nbconvert_exporter": "python",
   "pygments_lexer": "ipython2",
   "version": "2.7.6"
  }
 },
 "nbformat": 4,
 "nbformat_minor": 5
}
